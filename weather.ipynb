{
  "nbformat": 4,
  "nbformat_minor": 0,
  "metadata": {
    "colab": {
      "provenance": [],
      "authorship_tag": "ABX9TyMd1AjyeC7qLynAiD4ugF5x",
      "include_colab_link": true
    },
    "kernelspec": {
      "name": "python3",
      "display_name": "Python 3"
    },
    "language_info": {
      "name": "python"
    }
  },
  "cells": [
    {
      "cell_type": "markdown",
      "metadata": {
        "id": "view-in-github",
        "colab_type": "text"
      },
      "source": [
        "<a href=\"https://colab.research.google.com/github/yoramfeld/Weather_Forecast/blob/main/weather.ipynb\" target=\"_parent\"><img src=\"https://colab.research.google.com/assets/colab-badge.svg\" alt=\"Open In Colab\"/></a>"
      ]
    },
    {
      "cell_type": "code",
      "source": [
        "import requests\n",
        "from datetime import datetime, timezone\n",
        "api_key='7f0804cb4aab571b1c8921f4d82e1815'\n",
        "\n",
        "city_name=input (\"Enter city name \") #'Birmingham'#'Saint Petersburg'#'Jerusalem'   #London\n",
        "state_code=''\n",
        "country_code=''\n",
        "location=requests.get('http://api.openweathermap.org/geo/1.0/direct?q='+city_name+'&limit=50&appid='+api_key)\n",
        "no_of_cities_in_that_name = len(location.json())\n",
        "if no_of_cities_in_that_name==0:\n",
        "  print (\"City not found\")\n",
        "else:\n",
        "  print (\"Your current date & time are:\",datetime.now())\n",
        "  if no_of_cities_in_that_name > 1:\n",
        "    print (f\"Identified {no_of_cities_in_that_name} cities under {city_name}\")\n",
        "  for num in range (len(location.json())):\n",
        "    current=location.json()[num]\n",
        "    if no_of_cities_in_that_name>1:\n",
        "      print (f\"{num+1}. In \", end='')\n",
        "    print (f\"{current['state']} ({current['country']}) at {current['lon']} & {current['lat']}\")\n",
        "    weather=requests.get('https://api.openweathermap.org/data/2.5/weather?lat='+str(current['lat'])+'&lon='+str(current['lon'])+'&units=metric'+'&appid='+api_key)\n",
        "    #print (weather.json())\n",
        "    main=weather.json()['main']\n",
        "    weather=weather.json()['weather'][0]\n",
        "    print (f\"{main['temp']} degC and {main['humidity']}% humidity with {weather['description']}\\n\")"
      ],
      "metadata": {
        "colab": {
          "base_uri": "https://localhost:8080/"
        },
        "id": "9gN5YDQ4cNbx",
        "outputId": "161bbe83-9351-4a9f-9e82-f3a0becb521c"
      },
      "execution_count": 152,
      "outputs": [
        {
          "output_type": "stream",
          "name": "stdout",
          "text": [
            "Enter city name jERUSALEM\n",
            "Your current date & time are: 2024-06-03 14:49:37.533495\n",
            "Identified 5 cities under jERUSALEM\n",
            "1. In Jerusalem District (IL) at 35.21198075969497 & 31.79592425\n",
            "31.38 degC and 51% humidity with clear sky\n",
            "\n",
            "2. In Jerusalem District (IL) at 35.2257626 & 31.7788242\n",
            "31.33 degC and 51% humidity with clear sky\n",
            "\n",
            "3. In Ohio (US) at -81.0947512 & 39.8521672\n",
            "22.26 degC and 78% humidity with broken clouds\n",
            "\n",
            "4. In South Australia (AU) at 137.7139481980097 & -33.975988099999995\n",
            "11.42 degC and 54% humidity with light rain\n",
            "\n",
            "5. In Mpumalanga (ZA) at 31.1138889 & -25.1972222\n",
            "20.11 degC and 80% humidity with scattered clouds\n",
            "\n"
          ]
        }
      ]
    }
  ]
}