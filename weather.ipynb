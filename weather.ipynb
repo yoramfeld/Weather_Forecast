{
  "nbformat": 4,
  "nbformat_minor": 0,
  "metadata": {
    "colab": {
      "provenance": [],
      "authorship_tag": "ABX9TyOlYTv9xnzexISyxVqyVGtu",
      "include_colab_link": true
    },
    "kernelspec": {
      "name": "python3",
      "display_name": "Python 3"
    },
    "language_info": {
      "name": "python"
    }
  },
  "cells": [
    {
      "cell_type": "markdown",
      "metadata": {
        "id": "view-in-github",
        "colab_type": "text"
      },
      "source": [
        "<a href=\"https://colab.research.google.com/github/yoramfeld/Weather_Forecast/blob/main/weather.ipynb\" target=\"_parent\"><img src=\"https://colab.research.google.com/assets/colab-badge.svg\" alt=\"Open In Colab\"/></a>"
      ]
    },
    {
      "cell_type": "code",
      "source": [
        "import requests\n",
        "from datetime import datetime, timezone\n",
        "api_key='7f0804cb4aab571b1c8921f4d82e1815' #api key for open weather map site\n",
        "show_line=0 #to handle multi appearnces of a city\n",
        "city_name=input (\"Enter city name: \") #e.g. 'Birmingham' #'Saint Petersburg' #'Jerusalem' #London\n",
        "location=requests.get('http://api.openweathermap.org/geo/1.0/direct?q='+city_name+'&limit=50&appid='+api_key)\n",
        "\n",
        "no_of_cities_in_that_name = len(location.json()) #allow handling multi appearances\n",
        "if no_of_cities_in_that_name==0: #empty response\n",
        "  print (\"City not found\")\n",
        "else:\n",
        "  #print (location.json())  for debugging\n",
        "  if no_of_cities_in_that_name > 1: #allow choosing one of a list\n",
        "    print (f\"\\nIdentified {no_of_cities_in_that_name} cities under {city_name}\")\n",
        "    for num in range (len(location.json())):\n",
        "      current=location.json()[num]\n",
        "      state = '' if not 'state' in current else current['state'] # Protect from no state. e.g. several Hiroshima instances have no state\n",
        "      print (f\"{num+1}. {state} ({current['country']}) at {current['lon']} & {current['lat']}\") #list the multi cities\n",
        "\n",
        "    while True:\n",
        "      inp_str=(f\"Pick between 1 and {len(location.json())}:\")\n",
        "      line_no=int(input (inp_str)) #ask to pick one from the list\n",
        "      if 0 < line_no <= len(location.json()): #protect from illegal entered values\n",
        "        break\n",
        "    show_line=int(line_no)-1 #mark the list element to show\n",
        "\n",
        "  current=location.json()[show_line]\n",
        "  state = '' if not 'state' in current else current['state'] # Protect from no state. e.g. several Hiroshima instances have no state\n",
        "  print (f\"\\n{city_name} of {state} ({current['country']}) is at {current['lon']} & {current['lat']}\")\n",
        "  w=requests.get('https://api.openweathermap.org/data/2.5/weather?lat='+str(current['lat'])+'&lon='+str(current['lon'])+'&units=metric'+'&appid='+api_key) #read weather info\n",
        "  main=w.json()['main']\n",
        "  weather=w.json()['weather'][0]\n",
        "  print (f\"and currently has {main['temp']} degC and {main['humidity']}% humidity with {weather['description']}\")\n",
        "  remote_timestamp=datetime.fromtimestamp(w.json()['dt']+w.json()['timezone']) #use time info in the response\n",
        "  print (\"At\",remote_timestamp.strftime(\"%H:%M\"),\"on\",remote_timestamp.strftime(\"%d/%m\"),\"\\n\")\n",
        "  print (\"Your local date & time is:\",datetime.now().strftime(\"%H:%M\"),\"on\",datetime.now().strftime(\"%d/%m\")) #print the local time and date"
      ],
      "metadata": {
        "colab": {
          "base_uri": "https://localhost:8080/"
        },
        "id": "9gN5YDQ4cNbx",
        "outputId": "b931c44a-f7f9-4020-d744-5da558c2f421"
      },
      "execution_count": 7,
      "outputs": [
        {
          "output_type": "stream",
          "name": "stdout",
          "text": [
            "Enter city name: Delhi\n",
            "[{'name': 'Delhi', 'local_names': {'fr': 'Delhi', 'ko': '델리', 'ku': 'Delhî', 'eo': 'Delhio', 'bn': 'দিল্লি', 'ne': 'दिल्ली', 'uk': 'Делі', 'lv': 'Deli', 'pa': 'ਦਿੱਲੀ', 'fa': 'دهلی', 'te': 'ఢిల్లీ', 'ar': 'دلهي', 'el': 'Δελχί', 'cs': 'Dillí', 'ur': 'دہلی', 'es': 'Delhi', 'en': 'Delhi', 'he': 'דלהי', 'ru': 'Дели', 'ja': 'デリー', 'my': 'ဒေလီမြို့', 'hi': 'दिल्ली', 'ta': 'தில்லி', 'zh': '德里', 'ml': 'ഡെൽഹി', 'pt': 'Deli', 'kn': 'ದೆಹಲಿ', 'ms': 'Delhi', 'oc': 'Delhi', 'de': 'Delhi', 'th': 'เดลี'}, 'lat': 28.6517178, 'lon': 77.2219388, 'country': 'IN', 'state': 'Delhi'}, {'name': 'Delhi', 'lat': 42.4297057, 'lon': -91.3309112, 'country': 'US', 'state': 'Iowa'}, {'name': 'Delhi', 'local_names': {'en': 'Delhi', 'ru': 'Делхай'}, 'lat': 44.5991256, 'lon': -95.211113, 'country': 'US', 'state': 'Minnesota'}, {'name': 'Village of Delhi', 'local_names': {'en': 'Village of Delhi'}, 'lat': 42.2781401, 'lon': -74.9159946, 'country': 'US', 'state': 'New York'}, {'name': 'Town of Delhi', 'local_names': {'en': 'Town of Delhi'}, 'lat': 42.2781401, 'lon': -74.9159946, 'country': 'US', 'state': 'New York'}]\n",
            "\n",
            "Identified 5 cities under Delhi\n",
            "1. Delhi (IN) at 77.2219388 & 28.6517178\n",
            "2. Iowa (US) at -91.3309112 & 42.4297057\n",
            "3. Minnesota (US) at -95.211113 & 44.5991256\n",
            "4. New York (US) at -74.9159946 & 42.2781401\n",
            "5. New York (US) at -74.9159946 & 42.2781401\n",
            "Pick between 1 and 5:1\n",
            "\n",
            "Delhi of Delhi (IN) is at 77.2219388 & 28.6517178\n",
            "and currently has 40.06 degC and 24% humidity with haze\n",
            "At 11:53 on 04/06 \n",
            "\n",
            "Your local date & time is: 06:24 on 04/06\n"
          ]
        }
      ]
    }
  ]
}