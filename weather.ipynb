{
  "nbformat": 4,
  "nbformat_minor": 0,
  "metadata": {
    "colab": {
      "provenance": [],
      "authorship_tag": "ABX9TyPQSVRHQ3ljrnry5IPWONlI",
      "include_colab_link": true
    },
    "kernelspec": {
      "name": "python3",
      "display_name": "Python 3"
    },
    "language_info": {
      "name": "python"
    }
  },
  "cells": [
    {
      "cell_type": "markdown",
      "metadata": {
        "id": "view-in-github",
        "colab_type": "text"
      },
      "source": [
        "<a href=\"https://colab.research.google.com/github/yoramfeld/Weather_Forecast/blob/main/weather.ipynb\" target=\"_parent\"><img src=\"https://colab.research.google.com/assets/colab-badge.svg\" alt=\"Open In Colab\"/></a>"
      ]
    },
    {
      "cell_type": "code",
      "source": [
        "import requests\n",
        "from datetime import datetime, timezone\n",
        "api_key='7f0804cb4aab571b1c8921f4d82e1815'\n",
        "show_line=0\n",
        "\n",
        "\n",
        "city_name=input (\"Enter city name: \") #'Birmingham'#'Saint Petersburg'#'Jerusalem'   #London\n",
        "location=requests.get('http://api.openweathermap.org/geo/1.0/direct?q='+city_name+'&limit=50&appid='+api_key)\n",
        "\n",
        "no_of_cities_in_that_name = len(location.json())\n",
        "if no_of_cities_in_that_name==0:\n",
        "  print (\"City not found\")\n",
        "else:\n",
        "  if no_of_cities_in_that_name > 1:\n",
        "    print (f\"\\nIdentified {no_of_cities_in_that_name} cities under {city_name}\")\n",
        "    for num in range (len(location.json())):\n",
        "      current=location.json()[num]\n",
        "      print (f\"{num+1}. {current['state']} ({current['country']}) at {current['lon']} & {current['lat']}\")\n",
        "\n",
        "    while True:\n",
        "      inp_str=(f\"Pick between 1 and {len(location.json())}:\")\n",
        "      line_no=int(input (inp_str)) #'Birmingham'#'Saint Petersburg'#'Jerusalem'   #London\n",
        "      if 0 < line_no <= len(location.json()):\n",
        "        break\n",
        "    show_line=int(line_no)-1\n",
        "\n",
        "  current=location.json()[show_line]\n",
        "  print (f\"\\n{city_name} of {current['state']} ({current['country']}) is at {current['lon']} & {current['lat']}\")\n",
        "  w=requests.get('https://api.openweathermap.org/data/2.5/weather?lat='+str(current['lat'])+'&lon='+str(current['lon'])+'&units=metric'+'&appid='+api_key)\n",
        "  main=w.json()['main']\n",
        "  weather=w.json()['weather'][0]\n",
        "  print (f\"and currently has {main['temp']} degC and {main['humidity']}% humidity with {weather['description']}\")\n",
        "  remote_timestamp=datetime.fromtimestamp(w.json()['dt']+w.json()['timezone'])\n",
        "  print (\"At\",remote_timestamp.strftime(\"%H:%M\"),\"on\",remote_timestamp.strftime(\"%d/%m\"),\"\\n\")\n",
        "  print (\"Your local date & time is:\",datetime.now().strftime(\"%H:%M\"),\"on\",datetime.now().strftime(\"%d/%m\"))\n",
        "\n"
      ],
      "metadata": {
        "colab": {
          "base_uri": "https://localhost:8080/"
        },
        "id": "9gN5YDQ4cNbx",
        "outputId": "b36ae0b0-a4ea-4c96-d66e-213e399f1b68"
      },
      "execution_count": 26,
      "outputs": [
        {
          "output_type": "stream",
          "name": "stdout",
          "text": [
            "Enter city name: Jerusalem\n",
            "\n",
            "Identified 5 cities under Jerusalem\n",
            "1. Jerusalem District (IL) at 35.21198075969497 & 31.79592425\n",
            "2. Jerusalem District (IL) at 35.2257626 & 31.7788242\n",
            "3. Ohio (US) at -81.0947512 & 39.8521672\n",
            "4. South Australia (AU) at 137.7139481980097 & -33.975988099999995\n",
            "5. Mpumalanga (ZA) at 31.1138889 & -25.1972222\n",
            "Pick between 1 and 5:1\n",
            "\n",
            "Jerusalem of Jerusalem District (IL) is at 35.21198075969497 & 31.79592425\n",
            "and currently has 20.18 degC and 39% humidity with clear sky\n",
            "At 08:31 on 04/06 \n",
            "\n",
            "Your local date & time is: 05:31 on 04/06\n"
          ]
        }
      ]
    }
  ]
}